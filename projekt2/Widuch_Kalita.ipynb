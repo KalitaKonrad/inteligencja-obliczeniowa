{
 "cells": [
  {
   "cell_type": "code",
   "execution_count": 1,
   "metadata": {},
   "outputs": [],
   "source": [
    "import cv2\n",
    "import numpy as np\n",
    "import matplotlib.pyplot as plt\n",
    "\n",
    "# importowanie danych\n",
    "from keras.datasets import mnist\n",
    "\n",
    "# klasyczne klasyfikatory\n",
    "from sklearn import svm\n",
    "from sklearn.ensemble import RandomForestClassifier\n",
    "\n",
    "# sieci neuronowe\n",
    "from keras import models\n",
    "from keras import layers\n",
    "from keras.utils import to_categorical\n",
    "\n",
    "# walidacja krzyżowa\n",
    "from sklearn.model_selection import GridSearchCV, StratifiedKFold\n",
    "\n",
    "# reprezentacja wyników\n",
    "from sklearn.metrics import classification_report, confusion_matrix, accuracy_score\n",
    "\n",
    "# markdown\n",
    "from IPython.display import Markdown as md"
   ]
  },
  {
   "cell_type": "markdown",
   "metadata": {},
   "source": [
    "##### funkcje pomocnicze"
   ]
  },
  {
   "cell_type": "code",
   "execution_count": 2,
   "metadata": {},
   "outputs": [],
   "source": [
    "SZ=28\n",
    "affine_flags = cv2.WARP_INVERSE_MAP|cv2.INTER_LINEAR\n",
    "\n",
    "def deskew(img):\n",
    "    m = cv2.moments(img)\n",
    "    if abs(m['mu02']) < 1e-2:\n",
    "        return img.copy()\n",
    "    skew = m['mu11']/m['mu02']\n",
    "    M = np.float32([[1, skew, -0.5*SZ*skew], [0, 1, 0]])\n",
    "    img = cv2.warpAffine(img,M,(SZ, SZ),flags=affine_flags)\n",
    "    return img\n",
    "\n",
    "def showOpencvImage(image, title=\"\", isGray=False):\n",
    "    fig = plt.figure(figsize=(6, 6))\n",
    "    plt.title(title)\n",
    "    plt.axis(\"off\")\n",
    "    plt.imshow(image, cmap = 'gray')\n",
    "    plt.show()\n",
    "    \n",
    "    \n",
    "def openCVHOG(im):\n",
    "    winSize = (20,20)\n",
    "    blockSize = (10,10)\n",
    "    blockStride = (5,5)\n",
    "    cellSize = (10,10)\n",
    "    nbins = 9\n",
    "    derivAperture = 1\n",
    "    winSigma = -1.\n",
    "    histogramNormType = 0\n",
    "    L2HysThreshold = 0.2\n",
    "    gammaCorrection = 1\n",
    "    nlevels = 64\n",
    "    signedGradients = True\n",
    "\n",
    "    hog = cv2.HOGDescriptor(winSize,blockSize,blockStride,cellSize,nbins,derivAperture,winSigma,histogramNormType,L2HysThreshold,gammaCorrection,nlevels, signedGradients)\n",
    "    descriptor = np.ravel(hog.compute(im))\n",
    "    \n",
    "    return descriptor"
   ]
  },
  {
   "cell_type": "markdown",
   "metadata": {},
   "source": [
    "### Trening klasycznych klasyfikatorów (dane z wyrównaniem)"
   ]
  },
  {
   "cell_type": "code",
   "execution_count": 3,
   "metadata": {},
   "outputs": [],
   "source": [
    "# import danych\n",
    "(train_images, train_labels), (test_images, test_labels) = mnist.load_data()"
   ]
  },
  {
   "cell_type": "code",
   "execution_count": 4,
   "metadata": {},
   "outputs": [
    {
     "name": "stdout",
     "output_type": "stream",
     "text": [
      "(28, 28)\n",
      "(28, 28)\n"
     ]
    },
    {
     "data": {
      "image/png": "[encoded data removed]",
      "text/plain": [
       "<Figure size 432x432 with 1 Axes>"
      ]
     },
     "metadata": {
      "needs_background": "light"
     },
     "output_type": "display_data"
    },
    {
     "data": {
      "image/png": "[encoded data removed]",
      "text/plain": [
       "<Figure size 432x432 with 1 Axes>"
      ]
     },
     "metadata": {
      "needs_background": "light"
     },
     "output_type": "display_data"
    },
    {
     "data": {
      "image/png": "[encoded data removed]",
      "text/plain": [
       "<Figure size 432x432 with 1 Axes>"
      ]
     },
     "metadata": {
      "needs_background": "light"
     },
     "output_type": "display_data"
    },
    {
     "data": {
      "image/png": "[encoded data removed]",
      "text/plain": [
       "<Figure size 432x432 with 1 Axes>"
      ]
     },
     "metadata": {
      "needs_background": "light"
     },
     "output_type": "display_data"
    },
    {
     "data": {
      "image/png": "[encoded data removed]",
      "text/plain": [
       "<Figure size 432x432 with 1 Axes>"
      ]
     },
     "metadata": {
      "needs_background": "light"
     },
     "output_type": "display_data"
    },
    {
     "data": {
      "image/png": "[encoded data removed]",
      "text/plain": [
       "<Figure size 432x432 with 1 Axes>"
      ]
     },
     "metadata": {
      "needs_background": "light"
     },
     "output_type": "display_data"
    }
   ],
   "source": [
    "# prezentacja danych\n",
    "print(train_images[0].shape)\n",
    "\n",
    "# \"prostowanie\" cyfr\n",
    "train_deskewed = np.asarray([deskew(im) for im in train_images])\n",
    "test_deskewed = np.asarray([deskew(im) for im in test_images])\n",
    "\n",
    "print(train_deskewed[0].shape)\n",
    "\n",
    "# wyświetlanie rezultatu\n",
    "for i in range(3):\n",
    "    showOpencvImage(train_images[i+1], title=f\"label: {train_labels[i+1]}\")\n",
    "    showOpencvImage(train_deskewed[i+1], title=f\"label: {train_labels[i+1]}\")"
   ]
  },
  {
   "cell_type": "code",
   "execution_count": 5,
   "metadata": {},
   "outputs": [
    {
     "name": "stdout",
     "output_type": "stream",
     "text": [
      "###########################################\n",
      "Train:\n",
      "###########################################\n",
      "len(hog_train_deskewed): \t60000\n",
      "hog_train_deskewed[0].shape:\t(81,)\n",
      "train_data_deskewed.shape:\t(60000, 81)\n",
      "###########################################\n",
      "Test:\n",
      "###########################################\n",
      "len(hog_test_deskewed):  \t10000\n",
      "hog_test_deskewed[0].shape:\t(81,)\n",
      "test_data_deskewed.shape:\t(10000, 81)\n"
     ]
    }
   ],
   "source": [
    "# HOG dla danych wyprostowanych\n",
    "\n",
    "hog_train_deskewed = [openCVHOG(im) for im in train_deskewed]\n",
    "hog_test_deskewed = [openCVHOG(im) for im in test_deskewed]\n",
    "print(\"###########################################\\nTrain:\\n###########################################\")\n",
    "print(f\"len(hog_train_deskewed): \\t{len(hog_train_deskewed)}\")\n",
    "print(f\"hog_train_deskewed[0].shape:\\t{hog_train_deskewed[0].shape}\")\n",
    "train_data_deskewed = np.float32(hog_train_deskewed).reshape(-1,81)\n",
    "print(f\"train_data_deskewed.shape:\\t{train_data_deskewed.shape}\")\n",
    "print(\"###########################################\\nTest:\\n###########################################\")\n",
    "print(f\"len(hog_test_deskewed):  \\t{len(hog_test_deskewed)}\")\n",
    "print(f\"hog_test_deskewed[0].shape:\\t{hog_test_deskewed[0].shape}\")\n",
    "test_data_deskewed = np.float32(hog_test_deskewed).reshape(-1,81)\n",
    "print(f\"test_data_deskewed.shape:\\t{test_data_deskewed.shape}\")"
   ]
  },
  {
   "cell_type": "markdown",
   "metadata": {},
   "source": [
    "#### SVM dla parametrów domyślnych"
   ]
  },
  {
   "cell_type": "code",
   "execution_count": 6,
   "metadata": {},
   "outputs": [
    {
     "name": "stdout",
     "output_type": "stream",
     "text": [
      "accuracy: 0.9142857142857143\n",
      "[[59  0  0  0  1  0  0  0  0  0]\n",
      " [ 0 84  0  0  0  0  0  0  0  0]\n",
      " [ 0  0 71  0  0  0  2  3  0  1]\n",
      " [ 0  0  1 68  0  4  0  0  0  0]\n",
      " [ 0  0  0  0 69  0  5  0  0  0]\n",
      " [ 0  0  0  0  0 62  1  1  0  0]\n",
      " [ 1  0  0  0  0  0 60  0  0  0]\n",
      " [ 0  0  6  9  0  0  0 52  1  2]\n",
      " [ 1  0  3  1  1  0  1  1 49  6]\n",
      " [ 0  0  1  0  2  2  2  0  1 66]]\n",
      "              precision    recall  f1-score   support\n",
      "\n",
      "           0       0.97      0.98      0.98        60\n",
      "           1       1.00      1.00      1.00        84\n",
      "           2       0.87      0.92      0.89        77\n",
      "           3       0.87      0.93      0.90        73\n",
      "           4       0.95      0.93      0.94        74\n",
      "           5       0.91      0.97      0.94        64\n",
      "           6       0.85      0.98      0.91        61\n",
      "           7       0.91      0.74      0.82        70\n",
      "           8       0.96      0.78      0.86        63\n",
      "           9       0.88      0.89      0.89        74\n",
      "\n",
      "    accuracy                           0.91       700\n",
      "   macro avg       0.92      0.91      0.91       700\n",
      "weighted avg       0.92      0.91      0.91       700\n",
      "\n"
     ]
    }
   ],
   "source": [
    "# model z domyślnymi parametrami\n",
    "\n",
    "model = svm.SVC()\n",
    "model.fit(train_data_deskewed[0:700],train_labels[0:700])\n",
    "pred_labels = model.predict(test_data_deskewed[0:700,:])\n",
    "\n",
    "svm_default_deskewed = accuracy_score(test_labels[0:700], pred_labels)\n",
    "\n",
    "print(f\"accuracy: {svm_default_deskewed}\")\n",
    "print(confusion_matrix(test_labels[0:700], pred_labels))\n",
    "print(classification_report(test_labels[0:700], pred_labels))"
   ]
  },
  {
   "cell_type": "markdown",
   "metadata": {},
   "source": [
    "#### SVM dla parametrów wyszukanych przez GridSearchCV"
   ]
  },
  {
   "cell_type": "code",
   "execution_count": 7,
   "metadata": {},
   "outputs": [
    {
     "name": "stdout",
     "output_type": "stream",
     "text": [
      "Chosing params:  {'C': 4.111111111111111, 'gamma': 0.5}\n",
      "accuracy: 0.9328571428571428\n",
      "[[59  0  0  0  0  0  1  0  0  0]\n",
      " [ 0 84  0  0  0  0  0  0  0  0]\n",
      " [ 0  0 73  0  0  0  1  3  0  0]\n",
      " [ 0  0  1 68  0  4  0  0  0  0]\n",
      " [ 0  0  0  0 73  0  1  0  0  0]\n",
      " [ 0  0  0  0  0 62  1  1  0  0]\n",
      " [ 1  0  0  0  1  1 58  0  0  0]\n",
      " [ 0  0  7  6  0  0  0 55  0  2]\n",
      " [ 1  0  3  1  1  0  0  0 55  2]\n",
      " [ 0  0  1  0  3  2  1  0  1 66]]\n",
      "              precision    recall  f1-score   support\n",
      "\n",
      "           0       0.97      0.98      0.98        60\n",
      "           1       1.00      1.00      1.00        84\n",
      "           2       0.86      0.95      0.90        77\n",
      "           3       0.91      0.93      0.92        73\n",
      "           4       0.94      0.99      0.96        74\n",
      "           5       0.90      0.97      0.93        64\n",
      "           6       0.92      0.95      0.94        61\n",
      "           7       0.93      0.79      0.85        70\n",
      "           8       0.98      0.87      0.92        63\n",
      "           9       0.94      0.89      0.92        74\n",
      "\n",
      "    accuracy                           0.93       700\n",
      "   macro avg       0.93      0.93      0.93       700\n",
      "weighted avg       0.93      0.93      0.93       700\n",
      "\n"
     ]
    }
   ],
   "source": [
    "# model z dostrojonymi parametrami za pomocą gridsearch\n",
    "parameters = {'gamma':(0.5, 0.7, 0.9), 'C': np.linspace(start = 1, stop = 15, num = 10)}\n",
    "svc = svm.SVC()\n",
    "clf = GridSearchCV(svc, parameters, scoring='accuracy', cv=StratifiedKFold())\n",
    "clf.fit(train_data_deskewed[0:700],train_labels[0:700])\n",
    "params = clf.best_params_\n",
    "my_svc = clf.best_estimator_\n",
    "print(\"Chosing params: \", params)\n",
    "\n",
    "# predykcja dla danych testowych\n",
    "pred_labels = my_svc.predict(test_data_deskewed[0:700,:])\n",
    "\n",
    "# jakoś predykcji: dokładność\n",
    "\n",
    "svm_gscv_deskewed = accuracy_score(test_labels[0:700], pred_labels)\n",
    "\n",
    "print(f\"accuracy: {svm_gscv_deskewed}\")\n",
    "print(confusion_matrix(test_labels[0:700], pred_labels))\n",
    "print(classification_report(test_labels[0:700], pred_labels))"
   ]
  },
  {
   "cell_type": "markdown",
   "metadata": {},
   "source": [
    "#### RFC dla parametrów domyślnych"
   ]
  },
  {
   "cell_type": "code",
   "execution_count": 8,
   "metadata": {},
   "outputs": [
    {
     "name": "stdout",
     "output_type": "stream",
     "text": [
      "accuracy: 0.9085714285714286\n",
      "[[56  0  0  0  1  2  1  0  0  0]\n",
      " [ 0 84  0  0  0  0  0  0  0  0]\n",
      " [ 0  2 72  0  0  0  0  3  0  0]\n",
      " [ 0  0  1 67  1  3  0  0  1  0]\n",
      " [ 0  0  0  0 70  0  4  0  0  0]\n",
      " [ 1  0  0  0  0 61  0  1  1  0]\n",
      " [ 0  0  0  0  0  1 59  0  0  1]\n",
      " [ 0  0  8  7  1  0  0 53  1  0]\n",
      " [ 1  1  2  2  2  1  0  0 47  7]\n",
      " [ 0  0  1  0  2  1  1  0  2 67]]\n",
      "              precision    recall  f1-score   support\n",
      "\n",
      "           0       0.97      0.93      0.95        60\n",
      "           1       0.97      1.00      0.98        84\n",
      "           2       0.86      0.94      0.89        77\n",
      "           3       0.88      0.92      0.90        73\n",
      "           4       0.91      0.95      0.93        74\n",
      "           5       0.88      0.95      0.92        64\n",
      "           6       0.91      0.97      0.94        61\n",
      "           7       0.93      0.76      0.83        70\n",
      "           8       0.90      0.75      0.82        63\n",
      "           9       0.89      0.91      0.90        74\n",
      "\n",
      "    accuracy                           0.91       700\n",
      "   macro avg       0.91      0.91      0.91       700\n",
      "weighted avg       0.91      0.91      0.91       700\n",
      "\n"
     ]
    }
   ],
   "source": [
    "rfc = RandomForestClassifier()\n",
    "rfc.fit(train_data_deskewed[0:700],train_labels[0:700])\n",
    "pred_labels = rfc.predict(test_data_deskewed[0:700])\n",
    "\n",
    "rfc_default_deskewed = accuracy_score(test_labels[0:700], pred_labels)\n",
    "\n",
    "print(f\"accuracy: {rfc_default_deskewed}\")\n",
    "print(confusion_matrix(test_labels[0:700], pred_labels))\n",
    "print(classification_report(test_labels[0:700], pred_labels))"
   ]
  },
  {
   "cell_type": "markdown",
   "metadata": {},
   "source": [
    "#### RFC dla parametrów dostrojonych"
   ]
  },
  {
   "cell_type": "code",
   "execution_count": 9,
   "metadata": {},
   "outputs": [
    {
     "name": "stdout",
     "output_type": "stream",
     "text": [
      "Chosing params:  {'criterion': 'gini', 'max_depth': 10, 'n_estimators': 100}\n",
      "accuracy: 0.9185714285714286\n",
      "[[58  0  0  0  0  2  0  0  0  0]\n",
      " [ 0 84  0  0  0  0  0  0  0  0]\n",
      " [ 0  2 72  0  0  0  0  3  0  0]\n",
      " [ 0  0  1 69  0  3  0  0  0  0]\n",
      " [ 0  0  0  0 72  0  2  0  0  0]\n",
      " [ 1  0  0  0  0 62  0  0  1  0]\n",
      " [ 0  0  0  0  0  1 60  0  0  0]\n",
      " [ 0  0  6  7  1  0  0 55  1  0]\n",
      " [ 1  1  3  3  0  1  0  0 45  9]\n",
      " [ 0  0  1  0  1  1  1  1  3 66]]\n",
      "              precision    recall  f1-score   support\n",
      "\n",
      "           0       0.97      0.97      0.97        60\n",
      "           1       0.97      1.00      0.98        84\n",
      "           2       0.87      0.94      0.90        77\n",
      "           3       0.87      0.95      0.91        73\n",
      "           4       0.97      0.97      0.97        74\n",
      "           5       0.89      0.97      0.93        64\n",
      "           6       0.95      0.98      0.97        61\n",
      "           7       0.93      0.79      0.85        70\n",
      "           8       0.90      0.71      0.80        63\n",
      "           9       0.88      0.89      0.89        74\n",
      "\n",
      "    accuracy                           0.92       700\n",
      "   macro avg       0.92      0.92      0.92       700\n",
      "weighted avg       0.92      0.92      0.92       700\n",
      "\n"
     ]
    }
   ],
   "source": [
    "# analogicznie dla lasu losowego: tworzenie modelu -> szkolenie -> predykcja -> wyświetlanie rezultatów\n",
    "\n",
    "parameters = {'n_estimators': range(10, 131, 30), 'max_depth': (10, 15, 25, None), 'criterion': ('gini', 'entropy')}\n",
    "rfc = RandomForestClassifier()\n",
    "clf = GridSearchCV(rfc, parameters, scoring='accuracy', cv=StratifiedKFold())\n",
    "clf.fit(train_data_deskewed[0:700],train_labels[0:700])\n",
    "params = clf.best_params_\n",
    "my_rfc = clf.best_estimator_\n",
    "print(\"Chosing params: \", params)\n",
    "\n",
    "pred_labels = my_rfc.predict(test_data_deskewed[0:700])\n",
    "\n",
    "rfc_gscv_deskewed = accuracy_score(test_labels[0:700], pred_labels)\n",
    "\n",
    "print(f\"accuracy: {rfc_gscv_deskewed}\")\n",
    "print(confusion_matrix(test_labels[0:700], pred_labels))\n",
    "print(classification_report(test_labels[0:700], pred_labels))"
   ]
  },
  {
   "cell_type": "markdown",
   "metadata": {},
   "source": [
    "### Klasyczne klasyfikatory (dane bez wyrównania)"
   ]
  },
  {
   "cell_type": "code",
   "execution_count": 10,
   "metadata": {},
   "outputs": [],
   "source": [
    "# tym razem nie używamy funkccji deskew, nie wyrównujemy naszych cyfr\n",
    "\n",
    "hog_train = [openCVHOG(im) for im in train_images]\n",
    "hog_test = [openCVHOG(im) for im in test_images]\n",
    "train_data = np.float32(hog_train).reshape(-1,81)\n",
    "test_data = np.float32(hog_test).reshape(-1,81)"
   ]
  },
  {
   "cell_type": "code",
   "execution_count": 11,
   "metadata": {},
   "outputs": [
    {
     "name": "stdout",
     "output_type": "stream",
     "text": [
      "accuracy: 0.9014285714285715\n",
      "[[59  0  0  0  1  0  0  0  0  0]\n",
      " [ 0 84  0  0  0  0  0  0  0  0]\n",
      " [ 0  1 72  0  0  0  1  3  0  0]\n",
      " [ 0  0  1 69  0  2  0  1  0  0]\n",
      " [ 0  1  0  0 66  0  6  0  0  1]\n",
      " [ 0  1  0  0  0 61  0  0  0  2]\n",
      " [ 1  0  0  0  3  0 56  0  0  1]\n",
      " [ 0  0  8  9  0  0  0 53  0  0]\n",
      " [ 2  0  3  3  1  0  1  0 42 11]\n",
      " [ 0  0  0  0  0  1  1  2  1 69]]\n",
      "              precision    recall  f1-score   support\n",
      "\n",
      "           0       0.95      0.98      0.97        60\n",
      "           1       0.97      1.00      0.98        84\n",
      "           2       0.86      0.94      0.89        77\n",
      "           3       0.85      0.95      0.90        73\n",
      "           4       0.93      0.89      0.91        74\n",
      "           5       0.95      0.95      0.95        64\n",
      "           6       0.86      0.92      0.89        61\n",
      "           7       0.90      0.76      0.82        70\n",
      "           8       0.98      0.67      0.79        63\n",
      "           9       0.82      0.93      0.87        74\n",
      "\n",
      "    accuracy                           0.90       700\n",
      "   macro avg       0.91      0.90      0.90       700\n",
      "weighted avg       0.91      0.90      0.90       700\n",
      "\n"
     ]
    }
   ],
   "source": [
    "# model z domyślnymi parametrami\n",
    "\n",
    "model = svm.SVC()\n",
    "model.fit(train_data[0:700],train_labels[0:700])\n",
    "pred_labels = model.predict(test_data[0:700,:])\n",
    "\n",
    "svm_default_nondeskewed = accuracy_score(test_labels[0:700], pred_labels)\n",
    "\n",
    "print(f\"accuracy: {svm_default_nondeskewed}\")\n",
    "print(confusion_matrix(test_labels[0:700], pred_labels))\n",
    "print(classification_report(test_labels[0:700], pred_labels))"
   ]
  },
  {
   "cell_type": "code",
   "execution_count": 12,
   "metadata": {},
   "outputs": [
    {
     "name": "stdout",
     "output_type": "stream",
     "text": [
      "Chosing params:  {'C': 2.5555555555555554, 'gamma': 0.5}\n",
      "accuracy: 0.9071428571428571\n",
      "[[60  0  0  0  0  0  0  0  0  0]\n",
      " [ 0 84  0  0  0  0  0  0  0  0]\n",
      " [ 0  1 70  0  0  0  1  5  0  0]\n",
      " [ 0  0  1 70  0  2  0  0  0  0]\n",
      " [ 0  1  0  0 67  0  5  0  0  1]\n",
      " [ 0  1  0  0  0 62  0  1  0  0]\n",
      " [ 1  0  0  0  2  0 56  0  2  0]\n",
      " [ 0  0 12  6  0  0  0 51  0  1]\n",
      " [ 2  0  3  1  1  2  1  1 47  5]\n",
      " [ 0  0  0  0  0  1  1  2  2 68]]\n",
      "              precision    recall  f1-score   support\n",
      "\n",
      "           0       0.95      1.00      0.98        60\n",
      "           1       0.97      1.00      0.98        84\n",
      "           2       0.81      0.91      0.86        77\n",
      "           3       0.91      0.96      0.93        73\n",
      "           4       0.96      0.91      0.93        74\n",
      "           5       0.93      0.97      0.95        64\n",
      "           6       0.88      0.92      0.90        61\n",
      "           7       0.85      0.73      0.78        70\n",
      "           8       0.92      0.75      0.82        63\n",
      "           9       0.91      0.92      0.91        74\n",
      "\n",
      "    accuracy                           0.91       700\n",
      "   macro avg       0.91      0.91      0.90       700\n",
      "weighted avg       0.91      0.91      0.91       700\n",
      "\n"
     ]
    }
   ],
   "source": [
    "# postępujemy identycznie jak w przypadku danych z wyrównaniem\n",
    "\n",
    "parameters = {'gamma':(0.5, 0.7, 0.9), 'C': np.linspace(start = 1, stop = 15, num = 10)}\n",
    "svc = svm.SVC()\n",
    "clf = GridSearchCV(svc, parameters, scoring='accuracy', cv=StratifiedKFold())\n",
    "clf.fit(train_data[0:700],train_labels[0:700])\n",
    "params = clf.best_params_\n",
    "my_svc = clf.best_estimator_\n",
    "print(\"Chosing params: \", params)\n",
    "\n",
    "pred_labels = my_svc.predict(test_data[0:700])\n",
    "\n",
    "svm_gscv_nondeskewed = accuracy_score(test_labels[0:700], pred_labels)\n",
    "\n",
    "print(f\"accuracy: {svm_gscv_nondeskewed}\")\n",
    "print(confusion_matrix(test_labels[0:700], pred_labels))\n",
    "print(classification_report(test_labels[0:700], pred_labels))"
   ]
  },
  {
   "cell_type": "code",
   "execution_count": 13,
   "metadata": {},
   "outputs": [
    {
     "name": "stdout",
     "output_type": "stream",
     "text": [
      "accuracy: 0.8728571428571429\n",
      "[[57  0  0  0  1  1  1  0  0  0]\n",
      " [ 0 84  0  0  0  0  0  0  0  0]\n",
      " [ 0  0 68  3  0  0  2  4  0  0]\n",
      " [ 0  0  3 66  0  3  0  0  1  0]\n",
      " [ 0  1  0  0 67  0  6  0  0  0]\n",
      " [ 0  1  0  0  0 57  3  0  2  1]\n",
      " [ 0  0  1  0  4  1 55  0  0  0]\n",
      " [ 0  0  4 11  0  0  0 54  0  1]\n",
      " [ 1  0  2  3  4  5  1  0 39  8]\n",
      " [ 1  0  1  0  2  0  1  1  4 64]]\n",
      "              precision    recall  f1-score   support\n",
      "\n",
      "           0       0.97      0.95      0.96        60\n",
      "           1       0.98      1.00      0.99        84\n",
      "           2       0.86      0.88      0.87        77\n",
      "           3       0.80      0.90      0.85        73\n",
      "           4       0.86      0.91      0.88        74\n",
      "           5       0.85      0.89      0.87        64\n",
      "           6       0.80      0.90      0.85        61\n",
      "           7       0.92      0.77      0.84        70\n",
      "           8       0.85      0.62      0.72        63\n",
      "           9       0.86      0.86      0.86        74\n",
      "\n",
      "    accuracy                           0.87       700\n",
      "   macro avg       0.87      0.87      0.87       700\n",
      "weighted avg       0.87      0.87      0.87       700\n",
      "\n"
     ]
    }
   ],
   "source": [
    "rfc = RandomForestClassifier()\n",
    "rfc.fit(train_data[0:700],train_labels[0:700])\n",
    "pred_labels = rfc.predict(test_data[0:700])\n",
    "\n",
    "rfc_default_nondeskewed = accuracy_score(test_labels[0:700], pred_labels)\n",
    "\n",
    "print(f\"accuracy: {rfc_default_nondeskewed}\")\n",
    "print(confusion_matrix(test_labels[0:700], pred_labels))\n",
    "print(classification_report(test_labels[0:700], pred_labels))"
   ]
  },
  {
   "cell_type": "code",
   "execution_count": 14,
   "metadata": {},
   "outputs": [
    {
     "name": "stdout",
     "output_type": "stream",
     "text": [
      "Chosing params:  {'criterion': 'gini', 'max_depth': 15, 'n_estimators': 130}\n",
      "accuracy: 0.8728571428571429\n",
      "[[57  0  0  0  1  1  1  0  0  0]\n",
      " [ 0 84  0  0  0  0  0  0  0  0]\n",
      " [ 0  0 66  3  0  0  2  5  0  1]\n",
      " [ 0  0  2 66  0  4  0  0  1  0]\n",
      " [ 0  1  0  0 65  0  7  0  0  1]\n",
      " [ 0  2  1  0  0 56  1  1  2  1]\n",
      " [ 1  0  0  0  4  2 54  0  0  0]\n",
      " [ 0  0  3 11  0  0  0 55  0  1]\n",
      " [ 1  0  2  1  3  4  0  1 42  9]\n",
      " [ 1  0  0  0  2  0  1  1  3 66]]\n",
      "              precision    recall  f1-score   support\n",
      "\n",
      "           0       0.95      0.95      0.95        60\n",
      "           1       0.97      1.00      0.98        84\n",
      "           2       0.89      0.86      0.87        77\n",
      "           3       0.81      0.90      0.86        73\n",
      "           4       0.87      0.88      0.87        74\n",
      "           5       0.84      0.88      0.85        64\n",
      "           6       0.82      0.89      0.85        61\n",
      "           7       0.87      0.79      0.83        70\n",
      "           8       0.88      0.67      0.76        63\n",
      "           9       0.84      0.89      0.86        74\n",
      "\n",
      "    accuracy                           0.87       700\n",
      "   macro avg       0.87      0.87      0.87       700\n",
      "weighted avg       0.87      0.87      0.87       700\n",
      "\n"
     ]
    }
   ],
   "source": [
    "# tak samo dla lasu losowego\n",
    "\n",
    "parameters = {'n_estimators': range(10, 131, 30), 'max_depth': (10, 15, 25), 'criterion': ('gini', 'entropy')}\n",
    "rfc = RandomForestClassifier()\n",
    "clf = GridSearchCV(rfc, parameters, scoring='accuracy', cv=StratifiedKFold())\n",
    "clf.fit(train_data[0:700],train_labels[0:700])\n",
    "params = clf.best_params_\n",
    "my_rfc = clf.best_estimator_\n",
    "print(\"Chosing params: \", params)\n",
    "\n",
    "pred_labels = my_rfc.predict(test_data[0:700])\n",
    "\n",
    "rfc_gscv_nondeskewed = accuracy_score(test_labels[0:700], pred_labels)\n",
    "\n",
    "print(f\"accuracy: {rfc_gscv_nondeskewed}\")\n",
    "print(confusion_matrix(test_labels[0:700], pred_labels))\n",
    "print(classification_report(test_labels[0:700], pred_labels))"
   ]
  },
  {
   "cell_type": "code",
   "execution_count": 31,
   "metadata": {},
   "outputs": [
    {
     "data": {
      "text/markdown": [
       "### Wnioski:\n",
       "Zbierając wszystkie wyniki widzimy:\n",
       "\n",
       "|                 | default result | GSCV result |\n",
       "|---------------|:--------------:|:-----------:|\n",
       "| SVM deskewed    |     0.91429    |   0.93286   |\n",
       "| SVM nondeskewed |     0.90143    |   0.90714   |\n",
       "| RFC deskewed    |     0.90857    |   0.91857   |\n",
       "| RFC nondeskewed |     0.87286    |   0.87286   |\n",
       "\n",
       "W naszej tabeli widzimy jasno, że zarówno RFC jak i SVM radzą sobie lepiej na danych wyrównanych zarówno z użyciem walidacji krzyżowej jak i bez niej."
      ],
      "text/plain": [
       "<IPython.core.display.Markdown object>"
      ]
     },
     "execution_count": 31,
     "metadata": {},
     "output_type": "execute_result"
    }
   ],
   "source": [
    "# Po przeprowadzeniu wielu prób wyniki były bardzo zbliżone do siebie, jednak nie zawsze identyczne, stąd rozwiązanie ze zmiennymi w tabeli i zawsze takim samym zdaniem podsumowania :)\n",
    "\n",
    "md(f\"### Wnioski:\\n\\\n",
    "Zbierając wszystkie wyniki widzimy:\\n\\n\\\n",
    "|                 | default result | GSCV result |\\n\\\n",
    "|---------------|:--------------:|:-----------:|\\n\\\n",
    "| SVM deskewed    |     {svm_default_deskewed:.5f}    |   {svm_gscv_deskewed:.5f}   |\\n\\\n",
    "| SVM nondeskewed |     {svm_default_nondeskewed:.5f}    |   {svm_gscv_nondeskewed:.5f}   |\\n\\\n",
    "| RFC deskewed    |     {rfc_default_deskewed:.5f}    |   {rfc_gscv_deskewed:.5f}   |\\n\\\n",
    "| RFC nondeskewed |     {rfc_default_nondeskewed:.5f}    |   {rfc_gscv_nondeskewed:.5f}   |\\n\\\n",
    "\\n\\\n",
    "W naszej tabeli widzimy jasno, że zarówno RFC jak i SVM radzą sobie lepiej na danych wyrównanych zarówno z użyciem walidacji krzyżowej jak i bez niej.\")"
   ]
  },
  {
   "cell_type": "markdown",
   "metadata": {},
   "source": [
    "### Sieci neuronowe (dane z wyrównaniem)"
   ]
  },
  {
   "cell_type": "code",
   "execution_count": 16,
   "metadata": {},
   "outputs": [],
   "source": [
    "# Tworzenie modelu oraz dodanie dwóch warstw\n",
    "\n",
    "network = models.Sequential()\n",
    "network.add(layers.Dense(512, activation='relu', input_shape=(81,)))\n",
    "network.add(layers.Dense(10, activation='softmax'))\n",
    "\n",
    "network.compile(optimizer='rmsprop',\n",
    "                loss='categorical_crossentropy',\n",
    "                metrics=['accuracy'])"
   ]
  },
  {
   "cell_type": "code",
   "execution_count": 17,
   "metadata": {},
   "outputs": [
    {
     "name": "stdout",
     "output_type": "stream",
     "text": [
      "[[0. 0. 0. ... 1. 0. 0.]\n",
      " [0. 0. 1. ... 0. 0. 0.]\n",
      " [0. 1. 0. ... 0. 0. 0.]\n",
      " ...\n",
      " [0. 0. 0. ... 0. 0. 0.]\n",
      " [0. 0. 0. ... 0. 0. 0.]\n",
      " [0. 0. 0. ... 0. 0. 0.]]\n"
     ]
    }
   ],
   "source": [
    "encoded_train_labels = to_categorical(train_labels)\n",
    "encoded_test_labels = to_categorical(test_labels)\n",
    "\n",
    "print(encoded_test_labels)"
   ]
  },
  {
   "cell_type": "code",
   "execution_count": 18,
   "metadata": {},
   "outputs": [
    {
     "name": "stdout",
     "output_type": "stream",
     "text": [
      "Epoch 1/15\n",
      "469/469 [==============================] - 1s 2ms/step - loss: 0.6302 - accuracy: 0.8671\n",
      "Epoch 2/15\n",
      "469/469 [==============================] - 1s 1ms/step - loss: 0.1328 - accuracy: 0.9594\n",
      "Epoch 3/15\n",
      "469/469 [==============================] - 1s 1ms/step - loss: 0.1143 - accuracy: 0.9639\n",
      "Epoch 4/15\n",
      "469/469 [==============================] - 1s 1ms/step - loss: 0.1044 - accuracy: 0.9678\n",
      "Epoch 5/15\n",
      "469/469 [==============================] - 1s 1ms/step - loss: 0.0918 - accuracy: 0.9711\n",
      "Epoch 6/15\n",
      "469/469 [==============================] - 1s 1ms/step - loss: 0.0892 - accuracy: 0.9718\n",
      "Epoch 7/15\n",
      "469/469 [==============================] - 1s 1ms/step - loss: 0.0812 - accuracy: 0.9741\n",
      "Epoch 8/15\n",
      "469/469 [==============================] - 1s 1ms/step - loss: 0.0750 - accuracy: 0.9768\n",
      "Epoch 9/15\n",
      "469/469 [==============================] - 1s 1ms/step - loss: 0.0727 - accuracy: 0.9772\n",
      "Epoch 10/15\n",
      "469/469 [==============================] - 1s 1ms/step - loss: 0.0729 - accuracy: 0.9767\n",
      "Epoch 11/15\n",
      "469/469 [==============================] - 1s 1ms/step - loss: 0.0673 - accuracy: 0.9786\n",
      "Epoch 12/15\n",
      "469/469 [==============================] - 1s 1ms/step - loss: 0.0642 - accuracy: 0.9797\n",
      "Epoch 13/15\n",
      "469/469 [==============================] - 1s 1ms/step - loss: 0.0637 - accuracy: 0.9800\n",
      "Epoch 14/15\n",
      "469/469 [==============================] - ETA: 0s - loss: 0.0601 - accuracy: 0.98 - 1s 1ms/step - loss: 0.0600 - accuracy: 0.9807\n",
      "Epoch 15/15\n",
      "469/469 [==============================] - 1s 1ms/step - loss: 0.0564 - accuracy: 0.9818\n"
     ]
    },
    {
     "data": {
      "text/plain": [
       "<tensorflow.python.keras.callbacks.History at 0x2696387eb80>"
      ]
     },
     "execution_count": 18,
     "metadata": {},
     "output_type": "execute_result"
    }
   ],
   "source": [
    "network.fit(train_data_deskewed, encoded_train_labels, epochs=15, batch_size=128)"
   ]
  },
  {
   "cell_type": "code",
   "execution_count": 19,
   "metadata": {},
   "outputs": [
    {
     "name": "stdout",
     "output_type": "stream",
     "text": [
      "313/313 [==============================] - 0s 670us/step - loss: 0.0740 - accuracy: 0.9771\n",
      "test_acc: 0.9771000146865845\n"
     ]
    }
   ],
   "source": [
    "test_loss, test_acc = network.evaluate(test_data_deskewed, encoded_test_labels)\n",
    "print('test_acc:', test_acc)"
   ]
  },
  {
   "cell_type": "code",
   "execution_count": 20,
   "metadata": {},
   "outputs": [
    {
     "name": "stdout",
     "output_type": "stream",
     "text": [
      "Accuracy: 0.9771\n",
      "\n",
      "[[ 970    0    2    0    2    0    2    2    1    1]\n",
      " [   2 1118    0    1    0    0    3    8    3    0]\n",
      " [   0    0 1000    7    1    0    0   21    3    0]\n",
      " [   0    1    3  993    0    1    0   10    2    0]\n",
      " [   2    0    3    0  962    1    5    1    3    5]\n",
      " [   7    0    1    9    1  859    2    2    5    6]\n",
      " [   6    2    1    1    8    1  935    0    3    1]\n",
      " [   2    1    6    5    0    0    0 1011    3    0]\n",
      " [   0    0    1   12    5    1    0    4  942    9]\n",
      " [   3    0    0    1    4    1    2    8    9  981]]\n",
      "              precision    recall  f1-score   support\n",
      "\n",
      "           0       0.98      0.99      0.98       980\n",
      "           1       1.00      0.99      0.99      1135\n",
      "           2       0.98      0.97      0.98      1032\n",
      "           3       0.97      0.98      0.97      1010\n",
      "           4       0.98      0.98      0.98       982\n",
      "           5       0.99      0.96      0.98       892\n",
      "           6       0.99      0.98      0.98       958\n",
      "           7       0.95      0.98      0.97      1028\n",
      "           8       0.97      0.97      0.97       974\n",
      "           9       0.98      0.97      0.98      1009\n",
      "\n",
      "    accuracy                           0.98     10000\n",
      "   macro avg       0.98      0.98      0.98     10000\n",
      "weighted avg       0.98      0.98      0.98     10000\n",
      "\n"
     ]
    }
   ],
   "source": [
    "pred_probabilities = network.predict(test_data_deskewed)\n",
    "pred_labels = np.argmax(pred_probabilities,-1)\n",
    "\n",
    "print(f\"Accuracy: {accuracy_score(test_labels, pred_labels)}\\n\")\n",
    "print(confusion_matrix(test_labels, pred_labels))\n",
    "print(classification_report(test_labels, pred_labels))"
   ]
  },
  {
   "cell_type": "markdown",
   "metadata": {},
   "source": [
    "# Sieci neuronowe (dane bez wyrównania)"
   ]
  },
  {
   "cell_type": "code",
   "execution_count": 21,
   "metadata": {},
   "outputs": [
    {
     "name": "stdout",
     "output_type": "stream",
     "text": [
      "Epoch 1/15\n",
      "469/469 [==============================] - 1s 1ms/step - loss: 0.7311 - accuracy: 0.8357\n",
      "Epoch 2/15\n",
      "469/469 [==============================] - 1s 1ms/step - loss: 0.1887 - accuracy: 0.9413\n",
      "Epoch 3/15\n",
      "469/469 [==============================] - 1s 1ms/step - loss: 0.1570 - accuracy: 0.9513: 0s - loss: 0.1571 - accuracy: 0.\n",
      "Epoch 4/15\n",
      "469/469 [==============================] - 1s 1ms/step - loss: 0.1404 - accuracy: 0.9553\n",
      "Epoch 5/15\n",
      "469/469 [==============================] - 1s 1ms/step - loss: 0.1297 - accuracy: 0.9588\n",
      "Epoch 6/15\n",
      "469/469 [==============================] - 1s 1ms/step - loss: 0.1204 - accuracy: 0.9613\n",
      "Epoch 7/15\n",
      "469/469 [==============================] - 1s 1ms/step - loss: 0.1116 - accuracy: 0.9632\n",
      "Epoch 8/15\n",
      "469/469 [==============================] - 1s 1ms/step - loss: 0.1034 - accuracy: 0.9674\n",
      "Epoch 9/15\n",
      "469/469 [==============================] - 1s 1ms/step - loss: 0.1015 - accuracy: 0.9690\n",
      "Epoch 10/15\n",
      "469/469 [==============================] - 1s 1ms/step - loss: 0.0922 - accuracy: 0.9703\n",
      "Epoch 11/15\n",
      "469/469 [==============================] - 1s 1ms/step - loss: 0.0881 - accuracy: 0.9727\n",
      "Epoch 12/15\n",
      "469/469 [==============================] - 1s 1ms/step - loss: 0.0832 - accuracy: 0.9734\n",
      "Epoch 13/15\n",
      "469/469 [==============================] - 1s 1ms/step - loss: 0.0819 - accuracy: 0.9745\n",
      "Epoch 14/15\n",
      "469/469 [==============================] - 1s 1ms/step - loss: 0.0782 - accuracy: 0.9751\n",
      "Epoch 15/15\n",
      "469/469 [==============================] - 1s 1ms/step - loss: 0.0719 - accuracy: 0.9777\n"
     ]
    },
    {
     "data": {
      "text/plain": [
       "<tensorflow.python.keras.callbacks.History at 0x2696af13400>"
      ]
     },
     "execution_count": 21,
     "metadata": {},
     "output_type": "execute_result"
    }
   ],
   "source": [
    "network = models.Sequential()\n",
    "network.add(layers.Dense(512, activation='relu', input_shape=(81,)))\n",
    "network.add(layers.Dense(10, activation='softmax'))\n",
    "\n",
    "network.compile(optimizer='rmsprop',\n",
    "                loss='categorical_crossentropy',\n",
    "                metrics=['accuracy'])\n",
    "\n",
    "network.fit(train_data, encoded_train_labels, epochs=15, batch_size=128)"
   ]
  },
  {
   "cell_type": "code",
   "execution_count": 22,
   "metadata": {},
   "outputs": [
    {
     "name": "stdout",
     "output_type": "stream",
     "text": [
      "313/313 [==============================] - 0s 796us/step - loss: 0.0876 - accuracy: 0.9719\n",
      "test_acc: 0.9718999862670898\n"
     ]
    }
   ],
   "source": [
    "test_loss, test_acc = network.evaluate(test_data, encoded_test_labels)\n",
    "print('test_acc:', test_acc)"
   ]
  },
  {
   "cell_type": "code",
   "execution_count": 23,
   "metadata": {
    "scrolled": true
   },
   "outputs": [
    {
     "name": "stdout",
     "output_type": "stream",
     "text": [
      "Accuracy score for deskewed data: 0.9719\n",
      "\n",
      "[[ 954    2    4    0    2    5    9    2    1    1]\n",
      " [   0 1128    1    0    0    0    1    2    3    0]\n",
      " [   2    1 1012    4    1    0    0   10    2    0]\n",
      " [   0    1    7  986    0    7    0    3    6    0]\n",
      " [   1    0    1    0  973    0    2    0    1    4]\n",
      " [   2    1    1    5    2  867    2    1    5    6]\n",
      " [   6    4    2    0   11    4  928    0    3    0]\n",
      " [   1   13   24    9    1    1    0  976    3    0]\n",
      " [   1    0    7    8    7    5    2    1  929   14]\n",
      " [   6    3    1    2   12    8    2    0    9  966]]\n",
      "              precision    recall  f1-score   support\n",
      "\n",
      "           0       0.98      0.97      0.98       980\n",
      "           1       0.98      0.99      0.99      1135\n",
      "           2       0.95      0.98      0.97      1032\n",
      "           3       0.97      0.98      0.97      1010\n",
      "           4       0.96      0.99      0.98       982\n",
      "           5       0.97      0.97      0.97       892\n",
      "           6       0.98      0.97      0.97       958\n",
      "           7       0.98      0.95      0.96      1028\n",
      "           8       0.97      0.95      0.96       974\n",
      "           9       0.97      0.96      0.97      1009\n",
      "\n",
      "    accuracy                           0.97     10000\n",
      "   macro avg       0.97      0.97      0.97     10000\n",
      "weighted avg       0.97      0.97      0.97     10000\n",
      "\n"
     ]
    }
   ],
   "source": [
    "pred_probabilities = network.predict(test_data)\n",
    "pred_labels = np.argmax(pred_probabilities,-1)\n",
    "\n",
    "print(f\"Accuracy score for deskewed data: {accuracy_score(test_labels, pred_labels)}\\n\")\n",
    "print(confusion_matrix(test_labels, pred_labels))\n",
    "print(classification_report(test_labels, pred_labels))"
   ]
  },
  {
   "cell_type": "markdown",
   "metadata": {},
   "source": [
    "#### Wnioski:\n",
    "|                 | result |\n",
    "|---------------|:--------------:|\n",
    "| NN deskewed    |     0.975700    |\n",
    "| NN nondeskewed |     0.971199    |\n",
    "\n",
    "Jak widzimy również w tym przypadku model trenowany na danych wyrównanych daje lepsze rezultaty niż model trenowany na danych oryginalnych."
   ]
  },
  {
   "cell_type": "markdown",
   "metadata": {},
   "source": [
    "### Zadanie 3 - dane surowe vs hog"
   ]
  },
  {
   "cell_type": "code",
   "execution_count": 24,
   "metadata": {},
   "outputs": [],
   "source": [
    "# test_hog_deskewed = np.array(np.float32([openCVHOG(deskew(im)) for im in test_images]).reshape(-1,81)).astype('float32')\n",
    "# train_hog_deskewed = np.array(np.float32([openCVHOG(deskew(im)) for im in train_images]).reshape(-1,81)).astype('float32')\n",
    "\n",
    "# test_deskewed = np.array(np.float32([deskew(im) for im in test_images]).reshape(-1,784)).astype('float32')\n",
    "# train_deskewed = np.array(np.float32([deskew(im) for im in train_images]).reshape(-1,28*28)).astype('float32')"
   ]
  },
  {
   "cell_type": "code",
   "execution_count": 25,
   "metadata": {},
   "outputs": [],
   "source": [
    "# train_images1 = train_images\n",
    "# train_images1 = (train_images.astype('float32') / 255).reshape((60000, 784))\n",
    "\n",
    "# test_images1 = test_images\n",
    "# test_images1 = (test_images.astype('float32') / 255).reshape((-1, 784))"
   ]
  },
  {
   "cell_type": "code",
   "execution_count": 26,
   "metadata": {},
   "outputs": [],
   "source": [
    "# model_hog = svm.SVC(C=15.5,gamma=0.7)\n",
    "# model_hog.fit(train_hog_deskewed[0:1000],train_labels[0:1000])\n",
    "\n",
    "# pred_labels_hog = model_hog.predict(test_hog_deskewed[0:1000])\n",
    "\n",
    "# model = svm.SVC(C=15.5,gamma=0.7)\n",
    "# model.fit(train_images1[0:1000],train_labels[0:1000])\n",
    "\n",
    "# pred_labels = model.predict(test_images1[0:1000])"
   ]
  },
  {
   "cell_type": "code",
   "execution_count": 27,
   "metadata": {},
   "outputs": [],
   "source": [
    "# print(f\"accuracy: {accuracy_score(test_labels[0:1000], pred_labels_hog)}\")\n",
    "# print(confusion_matrix(test_labels[0:1000], pred_labels_hog))\n",
    "# print(classification_report(test_labels[0:1000], pred_labels_hog))\n",
    "\n",
    "# print(f\"accuracy: {accuracy_score(test_labels[0:1000], pred_labels)}\")\n",
    "# print(confusion_matrix(test_labels[0:1000], pred_labels))\n",
    "# print(classification_report(test_labels[0:1000], pred_labels))"
   ]
  },
  {
   "cell_type": "code",
   "execution_count": null,
   "metadata": {},
   "outputs": [],
   "source": []
  },
  {
   "cell_type": "code",
   "execution_count": null,
   "metadata": {},
   "outputs": [],
   "source": []
  },
  {
   "cell_type": "code",
   "execution_count": null,
   "metadata": {},
   "outputs": [],
   "source": []
  }
 ],
 "metadata": {
  "kernelspec": {
   "display_name": "Python 3",
   "language": "python",
   "name": "python3"
  },
  "language_info": {
   "codemirror_mode": {
    "name": "ipython",
    "version": 3
   },
   "file_extension": ".py",
   "mimetype": "text/x-python",
   "name": "python",
   "nbconvert_exporter": "python",
   "pygments_lexer": "ipython3",
   "version": "3.8.5"
  }
 },
 "nbformat": 4,
 "nbformat_minor": 4
}
