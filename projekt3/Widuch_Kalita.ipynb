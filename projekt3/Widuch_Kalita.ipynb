{
 "cells": [
  {
   "cell_type": "markdown",
   "metadata": {},
   "source": [
    "\n",
    "        Karol Widuch    - widuch@student.agh.edu.pl\n",
    "\n",
    "        Konrad Kalita   - konradkalita@student.agh.edu.pl\n",
    "        "
   ]
  },
  {
   "cell_type": "code",
   "execution_count": 1,
   "metadata": {},
   "outputs": [],
   "source": [
    "import os\n",
    "import librosa\n",
    "import IPython.display as ipd\n",
    "import matplotlib.pyplot as plt\n",
    "import numpy as np\n",
    "from scipy.io import wavfile\n",
    "import warnings\n",
    "from collections import namedtuple\n",
    "from numpy import save\n",
    "\n",
    "from sklearn.metrics import classification_report, confusion_matrix\n",
    "from sklearn.preprocessing import LabelEncoder\n",
    "from sklearn.model_selection import train_test_split\n",
    "\n",
    "from keras.utils import np_utils\n",
    "from keras.layers import Dense, Dropout, Flatten, Conv1D, Input, MaxPooling1D\n",
    "from keras.models import Model\n",
    "from keras.callbacks import EarlyStopping, ModelCheckpoint\n",
    "from keras import backend as K\n",
    "\n",
    "warnings.filterwarnings(\"ignore\")"
   ]
  },
  {
   "cell_type": "markdown",
   "metadata": {},
   "source": [
    "### Zadanie na dst\n",
    "W oparciu o sieć głęboką z notatnika “ Speech Recognition.ipynb” należy sprawdzić jak \"skuteczność\" klasyfikacji wybranych pięciu słów z bazy nagrań w języku angielskim zależy od liczebności zbioru treningowego.\n",
    "\n",
    "Raport z zadania powinien prezentować (w formie graficznej/tabelarycznej) zarówno elementy macierzy pomyłek jak i wartości różnych parametrów używanych do mierzenia skuteczności klasyfikacji w przypadku klasyfikacji wieloklasowej."
   ]
  },
  {
   "cell_type": "code",
   "execution_count": 2,
   "metadata": {},
   "outputs": [],
   "source": [
    "data_path = './data/'\n",
    "models_path = './models/'\n",
    "train_audio_path = './input/train/audio/'\n",
    "test_audio_path = './input/test/audio/'\n",
    "sample_audio_path = f\"{train_audio_path}yes/0a7c2a8d_nohash_0.wav\""
   ]
  },
  {
   "cell_type": "code",
   "execution_count": 3,
   "metadata": {},
   "outputs": [
    {
     "name": "stdout",
     "output_type": "stream",
     "text": [
      "['bed', 'bird', 'cat', 'dog', 'down']\n"
     ]
    }
   ],
   "source": [
    "labels = os.listdir(train_audio_path)[:5]\n",
    "\n",
    "print(labels)"
   ]
  },
  {
   "cell_type": "markdown",
   "metadata": {},
   "source": [
    "### Przygotowanie danych"
   ]
  },
  {
   "cell_type": "code",
   "execution_count": 4,
   "metadata": {},
   "outputs": [
    {
     "name": "stdout",
     "output_type": "stream",
     "text": [
      "Training set shape: \t\t(6575, 8000, 1)\n",
      "Validation set shape: \t\t(1644, 8000, 1)\n",
      "Training_datasets number: \t28\n",
      "Count of smallest set: \t\t0\n",
      "Count of biggest set: \t\t27\n"
     ]
    }
   ],
   "source": [
    "all_waves = []\n",
    "all_labels = []\n",
    "\n",
    "for label in labels:\n",
    "    waves = [f for f in os.listdir(f\"{train_audio_path}/{label}\") if f.endswith('.wav')]\n",
    "    for wav in waves:\n",
    "        samples, sample_rate = librosa.load(f\"{train_audio_path}/{label}/{wav}\", sr = 16000)\n",
    "        samples = librosa.resample(samples, sample_rate, 8000)\n",
    "        if(len(samples)== 8000) : \n",
    "            all_waves.append(samples)\n",
    "            all_labels.append(label)\n",
    "\n",
    "\n",
    "le = LabelEncoder()\n",
    "y = le.fit_transform(all_labels)\n",
    "classes = np.array(le.classes_)\n",
    "\n",
    "y = np_utils.to_categorical(y, num_classes=len(labels))\n",
    "all_waves = np.array(all_waves).reshape(-1,8000,1)\n",
    "\n",
    "x_tr, x_val, y_tr, y_val = train_test_split(np.array(all_waves), np.array(y), stratify=y, test_size = 0.2, random_state=777, shuffle=True)\n",
    "\n",
    "print(f\"Training set shape: \\t\\t{x_tr.shape}\")\n",
    "print(f\"Validation set shape: \\t\\t{x_val.shape}\")\n",
    "\n",
    "training_datasets = {}\n",
    "\n",
    "for i in range(1000, len(x_tr), 200):\n",
    "    training_datasets[int((i-1000)/200)] = (x_tr[:i], y_tr[:i])\n",
    "    \n",
    "print(f\"Training_datasets number: \\t{len(training_datasets)}\")\n",
    "print(f\"Count of smallest set: \\t\\t{min(training_datasets)}\")\n",
    "print(f\"Count of biggest set: \\t\\t{max(training_datasets)}\")"
   ]
  },
  {
   "cell_type": "markdown",
   "metadata": {},
   "source": [
    "### Budowa modelu"
   ]
  },
  {
   "cell_type": "code",
   "execution_count": 5,
   "metadata": {},
   "outputs": [
    {
     "name": "stdout",
     "output_type": "stream",
     "text": [
      "Model: \"model\"\n",
      "_________________________________________________________________\n",
      "Layer (type)                 Output Shape              Param #   \n",
      "=================================================================\n",
      "input_1 (InputLayer)         [(None, 8000, 1)]         0         \n",
      "_________________________________________________________________\n",
      "conv1d (Conv1D)              (None, 7988, 8)           112       \n",
      "_________________________________________________________________\n",
      "max_pooling1d (MaxPooling1D) (None, 2662, 8)           0         \n",
      "_________________________________________________________________\n",
      "dropout (Dropout)            (None, 2662, 8)           0         \n",
      "_________________________________________________________________\n",
      "conv1d_1 (Conv1D)            (None, 2652, 16)          1424      \n",
      "_________________________________________________________________\n",
      "max_pooling1d_1 (MaxPooling1 (None, 884, 16)           0         \n",
      "_________________________________________________________________\n",
      "dropout_1 (Dropout)          (None, 884, 16)           0         \n",
      "_________________________________________________________________\n",
      "conv1d_2 (Conv1D)            (None, 876, 32)           4640      \n",
      "_________________________________________________________________\n",
      "max_pooling1d_2 (MaxPooling1 (None, 292, 32)           0         \n",
      "_________________________________________________________________\n",
      "dropout_2 (Dropout)          (None, 292, 32)           0         \n",
      "_________________________________________________________________\n",
      "conv1d_3 (Conv1D)            (None, 286, 64)           14400     \n",
      "_________________________________________________________________\n",
      "max_pooling1d_3 (MaxPooling1 (None, 95, 64)            0         \n",
      "_________________________________________________________________\n",
      "dropout_3 (Dropout)          (None, 95, 64)            0         \n",
      "_________________________________________________________________\n",
      "flatten (Flatten)            (None, 6080)              0         \n",
      "_________________________________________________________________\n",
      "dense (Dense)                (None, 256)               1556736   \n",
      "_________________________________________________________________\n",
      "dropout_4 (Dropout)          (None, 256)               0         \n",
      "_________________________________________________________________\n",
      "dense_1 (Dense)              (None, 128)               32896     \n",
      "_________________________________________________________________\n",
      "dropout_5 (Dropout)          (None, 128)               0         \n",
      "_________________________________________________________________\n",
      "dense_2 (Dense)              (None, 5)                 645       \n",
      "=================================================================\n",
      "Total params: 1,610,853\n",
      "Trainable params: 1,610,853\n",
      "Non-trainable params: 0\n",
      "_________________________________________________________________\n"
     ]
    }
   ],
   "source": [
    "K.clear_session()\n",
    "\n",
    "inputs = Input(shape=(8000,1))\n",
    "\n",
    "#First Conv1D layer\n",
    "conv = Conv1D(8,13, padding='valid', activation='relu', strides=1)(inputs)\n",
    "conv = MaxPooling1D(3)(conv)\n",
    "conv = Dropout(0.3)(conv)\n",
    "\n",
    "#Second Conv1D layer\n",
    "conv = Conv1D(16, 11, padding='valid', activation='relu', strides=1)(conv)\n",
    "conv = MaxPooling1D(3)(conv)\n",
    "conv = Dropout(0.3)(conv)\n",
    "\n",
    "#Third Conv1D layer\n",
    "conv = Conv1D(32, 9, padding='valid', activation='relu', strides=1)(conv)\n",
    "conv = MaxPooling1D(3)(conv)\n",
    "conv = Dropout(0.3)(conv)\n",
    "\n",
    "#Fourth Conv1D layer\n",
    "conv = Conv1D(64, 7, padding='valid', activation='relu', strides=1)(conv)\n",
    "conv = MaxPooling1D(3)(conv)\n",
    "conv = Dropout(0.3)(conv)\n",
    "\n",
    "#Flatten layer\n",
    "conv = Flatten()(conv)\n",
    "\n",
    "#Dense Layer 1\n",
    "conv = Dense(256, activation='relu')(conv)\n",
    "conv = Dropout(0.3)(conv)\n",
    "\n",
    "#Dense Layer 2\n",
    "conv = Dense(128, activation='relu')(conv)\n",
    "conv = Dropout(0.3)(conv)\n",
    "\n",
    "outputs = Dense(len(labels), activation='softmax')(conv)\n",
    "\n",
    "model = Model(inputs, outputs)\n",
    "model.summary()"
   ]
  },
  {
   "cell_type": "markdown",
   "metadata": {},
   "source": [
    "### Szkolenie modeli dla różnych liczeności zbiorów testowych"
   ]
  },
  {
   "cell_type": "code",
   "execution_count": 6,
   "metadata": {},
   "outputs": [
    {
     "name": "stdout",
     "output_type": "stream",
     "text": [
      "Num of datasets:\t28\n",
      "Dataset 1:\t\tNum: 1000\tscore: 1.5848100185394287\n",
      "Dataset 2:\t\tNum: 1200\tscore: 1.465079426765442\n",
      "Dataset 3:\t\tNum: 1400\tscore: 1.1800403594970703\n",
      "Dataset 4:\t\tNum: 1600\tscore: 1.1206042766571045\n",
      "Dataset 5:\t\tNum: 1800\tscore: 0.9980030059814453\n",
      "Dataset 6:\t\tNum: 2000\tscore: 0.8577015995979309\n",
      "Dataset 7:\t\tNum: 2200\tscore: 0.8086313009262085\n",
      "Dataset 8:\t\tNum: 2400\tscore: 0.7120639681816101\n",
      "Dataset 9:\t\tNum: 2600\tscore: 0.6067929863929749\n",
      "Dataset 10:\t\tNum: 2800\tscore: 0.57602858543396\n",
      "Dataset 11:\t\tNum: 3000\tscore: 0.5393199920654297\n",
      "Dataset 12:\t\tNum: 3200\tscore: 0.5891498327255249\n",
      "Dataset 13:\t\tNum: 3400\tscore: 0.4966337978839874\n",
      "Dataset 14:\t\tNum: 3600\tscore: 0.46360018849372864\n",
      "Dataset 15:\t\tNum: 3800\tscore: 0.4690728485584259\n",
      "Dataset 16:\t\tNum: 4000\tscore: 0.46144983172416687\n",
      "Dataset 17:\t\tNum: 4200\tscore: 0.4521366059780121\n",
      "Dataset 18:\t\tNum: 4400\tscore: 0.45941805839538574\n",
      "Dataset 19:\t\tNum: 4600\tscore: 0.4747527837753296\n",
      "Dataset 20:\t\tNum: 4800\tscore: 0.4222621023654938\n",
      "Dataset 21:\t\tNum: 5000\tscore: 0.4286976456642151\n",
      "Dataset 22:\t\tNum: 5200\tscore: 0.4323433041572571\n",
      "Dataset 23:\t\tNum: 5400\tscore: 0.42265036702156067\n",
      "Dataset 24:\t\tNum: 5600\tscore: 0.3846609890460968\n",
      "Dataset 25:\t\tNum: 5800\tscore: 0.40324193239212036\n",
      "Dataset 26:\t\tNum: 6000\tscore: 0.4365507960319519\n",
      "Dataset 27:\t\tNum: 6200\tscore: 0.38832616806030273\n",
      "Dataset 28:\t\tNum: 6400\tscore: 0.3852483630180359\n"
     ]
    }
   ],
   "source": [
    "model.compile(loss='categorical_crossentropy', optimizer='adam', metrics=['accuracy'])\n",
    "es = EarlyStopping(monitor='val_accuracy', mode='min', verbose=0, patience=10, min_delta=0.0001)\n",
    "scores = {}\n",
    "\n",
    "print(f\"Num of datasets:\\t{len(training_datasets)}\")\n",
    "\n",
    "for i in training_datasets:\n",
    "    filename = f'model_{training_datasets[i][0].shape[0]}.hdf5'\n",
    "    mc = ModelCheckpoint(models_path+filename, monitor='val_accuracy', verbose=0, save_best_only=True, mode='max')\n",
    "    x_tr_i, y_tr_i = training_datasets[i]\n",
    "    history = model.fit(x_tr_i, y_tr_i, epochs=3, callbacks=[es,mc], batch_size=32, validation_data=(x_val, y_val), verbose=False)\n",
    "\n",
    "    y_val_class = classes[np.argmax(y_val, axis=1)]\n",
    "    y_pred_class = classes[np.argmax(model.predict(x_val), axis=1)]\n",
    "\n",
    "    conf_matrix = confusion_matrix(y_pred_class, y_val_class)\n",
    "    report = classification_report(y_pred_class, y_val_class)\n",
    "\n",
    "    score = min(history.history['val_loss'])\n",
    "    scores[i] = {\n",
    "        'count': int(i*200 + 1000),\n",
    "        'history': history.history, \n",
    "        'confusion_matrix': conf_matrix, \n",
    "        'classification_report': report}\n",
    "\n",
    "    print(f\"Dataset {i+1}:\\t\\tNum: {scores[i]['count']}\\tscore: {score}\")"
   ]
  },
  {
   "cell_type": "markdown",
   "metadata": {},
   "source": [
    "### Wykres zależności ilości danych od skuteczności"
   ]
  },
  {
   "cell_type": "code",
   "execution_count": 7,
   "metadata": {},
   "outputs": [
    {
     "data": {
      "image/png": "[encoded data removed]",
      "text/plain": [
       "<Figure size 432x288 with 1 Axes>"
      ]
     },
     "metadata": {
      "needs_background": "light"
     },
     "output_type": "display_data"
    }
   ],
   "source": [
    "num_of_samples = [scores[key]['count'] for key in scores]\n",
    "losses = [min(scores[key]['history']['loss']) for key in scores]\n",
    "val_losses = [min(scores[key]['history']['val_loss']) for key in scores]\n",
    "\n",
    "plt.plot(num_of_samples, losses, 'b', label='train')\n",
    "plt.plot(num_of_samples, val_losses, 'y', label='test')\n",
    "plt.legend()\n",
    "plt.show()"
   ]
  },
  {
   "cell_type": "markdown",
   "metadata": {},
   "source": [
    "### Raport oraz macierz pomyłek"
   ]
  },
  {
   "cell_type": "code",
   "execution_count": 8,
   "metadata": {},
   "outputs": [
    {
     "name": "stdout",
     "output_type": "stream",
     "text": [
      "              precision    recall  f1-score   support\n",
      "\n",
      "         bed       0.88      0.76      0.82       343\n",
      "        bird       0.92      0.90      0.91       313\n",
      "         cat       0.87      0.82      0.85       319\n",
      "         dog       0.87      0.87      0.87       309\n",
      "        down       0.78      0.93      0.85       360\n",
      "\n",
      "    accuracy                           0.86      1644\n",
      "   macro avg       0.86      0.86      0.86      1644\n",
      "weighted avg       0.86      0.86      0.86      1644\n",
      "\n",
      "[[261  17  30  11  24]\n",
      " [ 16 281   1   7   8]\n",
      " [ 16   2 263   8  30]\n",
      " [  0   2   4 270  33]\n",
      " [  4   2   5  13 336]]\n"
     ]
    }
   ],
   "source": [
    "index = np.argmin(np.array(val_losses))\n",
    "best_report = scores[index]['classification_report']\n",
    "best_matrix = scores[index]['confusion_matrix']\n",
    "\n",
    "print(best_report)\n",
    "print(best_matrix)"
   ]
  },
  {
   "cell_type": "markdown",
   "metadata": {},
   "source": [
    "### Wnioski\n",
    "\n",
    "Jak widać na wykresie powyżejwraz ze wzrostem liczebności próbek znacząco wzrasta skuteczność predykcji naszego modelu. Od pewnego momentu natomiast można zauważyć pewne wahania i nieznaczną poprawę jakości modelu. Zgodnie z wynikami widzimy jednak, że najlepszy rezultat model uzyskał dla 5600 próbek.\n",
    "Analizując macierz pomyłek i raport klasyfikacji widzimy, że nasze predykcje są poprawne i nie ma znaczących błędów w konstrukcji modelu."
   ]
  }
 ],
 "metadata": {
  "kernelspec": {
   "display_name": "Python 3",
   "language": "python",
   "name": "python3"
  },
  "language_info": {
   "codemirror_mode": {
    "name": "ipython",
    "version": 3
   },
   "file_extension": ".py",
   "mimetype": "text/x-python",
   "name": "python",
   "nbconvert_exporter": "python",
   "pygments_lexer": "ipython3",
   "version": "3.8.5"
  }
 },
 "nbformat": 4,
 "nbformat_minor": 4
}
